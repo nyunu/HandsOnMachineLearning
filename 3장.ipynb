{
  "cells": [
    {
      "cell_type": "markdown",
      "metadata": {
        "id": "view-in-github",
        "colab_type": "text"
      },
      "source": [
        "<a href=\"https://colab.research.google.com/github/nyunu/HandsOnMachineLearning/blob/main/3%EC%9E%A5.ipynb\" target=\"_parent\"><img src=\"https://colab.research.google.com/assets/colab-badge.svg\" alt=\"Open In Colab\"/></a>"
      ]
    },
    {
      "cell_type": "markdown",
      "metadata": {
        "id": "Np0-yPD_V2SF"
      },
      "source": [
        "# **3. 분류**"
      ]
    },
    {
      "cell_type": "markdown",
      "metadata": {
        "id": "Q6Ku5FWlV8jQ"
      },
      "source": [
        "## **3.1 MNIST**"
      ]
    },
    {
      "cell_type": "code",
      "execution_count": null,
      "metadata": {
        "colab": {
          "base_uri": "https://localhost:8080/"
        },
        "id": "Ls8VdOGTPupT",
        "outputId": "9ec92c68-8a30-497f-df2d-80fb26b6c1d0"
      },
      "outputs": [
        {
          "data": {
            "text/plain": [
              "dict_keys(['data', 'target', 'frame', 'categories', 'feature_names', 'target_names', 'DESCR', 'details', 'url'])"
            ]
          },
          "execution_count": 1,
          "metadata": {},
          "output_type": "execute_result"
        }
      ],
      "source": [
        "from sklearn.datasets import fetch_openml\n",
        "mnist = fetch_openml('mnist_784', version = 1)\n",
        "mnist.keys()"
      ]
    },
    {
      "cell_type": "markdown",
      "metadata": {
        "id": "YDZMOhabRHlv"
      },
      "source": [
        "**mnist 데이터 구조** <br>\n",
        "  * descr : 데이터 설명 <br>\n",
        "  * data : 샘플이 하나의 팽, 특성이 하나의 열로 구성된 배열\n",
        "  * target : 레이블 배열"
      ]
    },
    {
      "cell_type": "code",
      "execution_count": null,
      "metadata": {
        "colab": {
          "base_uri": "https://localhost:8080/"
        },
        "id": "x0KYVRe5Qqgq",
        "outputId": "390aba51-2ffc-4851-8f3c-2fa04bbb5df5"
      },
      "outputs": [
        {
          "data": {
            "text/plain": [
              "(70000, 784)"
            ]
          },
          "execution_count": 2,
          "metadata": {},
          "output_type": "execute_result"
        }
      ],
      "source": [
        "X, y = mnist['data'], mnist['target'] \n",
        "X.shape \n",
        "# 70000개의 이미지, 28*28 픽셀"
      ]
    },
    {
      "cell_type": "code",
      "execution_count": null,
      "metadata": {
        "colab": {
          "base_uri": "https://localhost:8080/"
        },
        "id": "Un-DUpFyQ2L4",
        "outputId": "60192c24-32d9-45da-b048-28dd057b971f"
      },
      "outputs": [
        {
          "data": {
            "text/plain": [
              "(70000,)"
            ]
          },
          "execution_count": 3,
          "metadata": {},
          "output_type": "execute_result"
        }
      ],
      "source": [
        "y.shape"
      ]
    },
    {
      "cell_type": "markdown",
      "metadata": {
        "id": "YY-pbpfhU2Sm"
      },
      "source": [
        "* 원래 교재 내 코드에서는 some_digit = X[0] 으로 표기되어 있지만, <br>\n",
        "교재 내 코드대로 실행하면 오류 발생 <br>\n",
        "* 따라서, 먼저 0번째 샘플의 특성 벡터를 .iloc를 활용해 추출한다 <br>\n",
        "이후 reshape 함수의 활용이 가능하기 위해서는 some_digit이 array 형태여야 하기 때문에 <br>\n",
        "np.array를 활용하여 형태를 변환시켜준다. <br>"
      ]
    },
    {
      "cell_type": "code",
      "execution_count": null,
      "metadata": {
        "colab": {
          "base_uri": "https://localhost:8080/",
          "height": 248
        },
        "id": "gj1_g9BjRe1A",
        "outputId": "3ce7bf65-3d65-4d97-9781-38557bf440d3"
      },
      "outputs": [
        {
          "data": {
            "image/png": "[encoded data removed]",
            "text/plain": [
              "<Figure size 432x288 with 1 Axes>"
            ]
          },
          "metadata": {},
          "output_type": "display_data"
        }
      ],
      "source": [
        "import matplotlib as mlp\n",
        "import matplotlib.pyplot as plt\n",
        "import numpy as np\n",
        "\n",
        "some_digit = np.array(X.iloc[0,]) # 샘플의 특성 벡터 추출\n",
        "\n",
        "some_digit_image = some_digit.reshape(28, 28) # 28*28 배열로 크기 변환\n",
        "\n",
        "plt.imshow(some_digit_image, cmap='binary') # 흑백 이미지로 보여주기\n",
        "plt.axis(\"off\")\n",
        "plt.show()"
      ]
    },
    {
      "cell_type": "code",
      "execution_count": null,
      "metadata": {
        "colab": {
          "base_uri": "https://localhost:8080/",
          "height": 35
        },
        "id": "Yxgh8fz6VlZn",
        "outputId": "fbbf95eb-502f-4d8d-ab5b-91ae41c36cb9"
      },
      "outputs": [
        {
          "data": {
            "application/vnd.google.colaboratory.intrinsic+json": {
              "type": "string"
            },
            "text/plain": [
              "'5'"
            ]
          },
          "execution_count": 5,
          "metadata": {},
          "output_type": "execute_result"
        }
      ],
      "source": [
        "y[0]"
      ]
    },
    {
      "cell_type": "code",
      "execution_count": null,
      "metadata": {
        "id": "pvMAHt7UVny9"
      },
      "outputs": [],
      "source": [
        "# y를 정수로 변환\n",
        "y = y.astype(np.uint8)"
      ]
    },
    {
      "cell_type": "code",
      "execution_count": null,
      "metadata": {
        "id": "DZHdgQ8AWIyW"
      },
      "outputs": [],
      "source": [
        "# MNIST는 이미 훈련/테스트 데이터를 나눠두었기 때문에 이렇게 진행 (60000이 기준)\n",
        "X_train, X_test, y_train, y_test = X[:60000], X[60000:], y[:60000], y[60000:]"
      ]
    },
    {
      "cell_type": "markdown",
      "metadata": {
        "id": "Oos4pChYWgMN"
      },
      "source": [
        "## **3.2 이진 분류기 훈련**"
      ]
    },
    {
      "cell_type": "markdown",
      "metadata": {
        "id": "YCme_klrWnTN"
      },
      "source": [
        "* 이진 분류기 : YES OR NO (두개의 클래스로 구분)"
      ]
    },
    {
      "cell_type": "code",
      "execution_count": null,
      "metadata": {
        "id": "bkKDWCdsWmp9"
      },
      "outputs": [],
      "source": [
        "# 5를 기준으로 분류작업을 시행하기 전 타겟 벡터를 생성\n",
        "y_train_5 = (y_train == 5) # 5이면 True, 5 아니면 다 False\n",
        "y_test_5 = (y_test == 5)"
      ]
    },
    {
      "cell_type": "markdown",
      "metadata": {
        "id": "W_qztN4CXH-u"
      },
      "source": [
        "* **확률적 경사 하강법 (SGD) 분류기**\n",
        "  - 매우 큰 데이터셋을 효율적으로 처리하는 장점\n",
        "  - 한 번에 하나씩 훈련 샘플을 독립적으로 처리하기 때문\n",
        "  - 훈련에 무작위성을 사용 (randome_state =)"
      ]
    },
    {
      "cell_type": "code",
      "execution_count": null,
      "metadata": {
        "colab": {
          "base_uri": "https://localhost:8080/"
        },
        "id": "vtu6wMg4WjNV",
        "outputId": "ca68cec2-a8b8-475c-dc78-45756b9c394b"
      },
      "outputs": [
        {
          "data": {
            "text/plain": [
              "SGDClassifier(random_state=42)"
            ]
          },
          "execution_count": 9,
          "metadata": {},
          "output_type": "execute_result"
        }
      ],
      "source": [
        "from sklearn.linear_model import SGDClassifier\n",
        "\n",
        "sgd_clf = SGDClassifier(random_state = 42)\n",
        "sgd_clf.fit(X_train, y_train_5)"
      ]
    },
    {
      "cell_type": "code",
      "execution_count": null,
      "metadata": {
        "colab": {
          "base_uri": "https://localhost:8080/"
        },
        "id": "0Qk3rjAHXsTX",
        "outputId": "cae6e6b7-fcfb-46d8-9a63-494e3e5e97c1"
      },
      "outputs": [
        {
          "name": "stderr",
          "output_type": "stream",
          "text": [
            "/usr/local/lib/python3.8/dist-packages/sklearn/base.py:450: UserWarning: X does not have valid feature names, but SGDClassifier was fitted with feature names\n",
            "  warnings.warn(\n"
          ]
        },
        {
          "data": {
            "text/plain": [
              "array([ True])"
            ]
          },
          "execution_count": 10,
          "metadata": {},
          "output_type": "execute_result"
        }
      ],
      "source": [
        "sgd_clf.predict([some_digit])"
      ]
    },
    {
      "cell_type": "markdown",
      "metadata": {
        "id": "bSqMcP68X5lk"
      },
      "source": [
        "## **3.3 성능 측정**"
      ]
    },
    {
      "cell_type": "markdown",
      "metadata": {
        "id": "f7c_ELT8X9Wc"
      },
      "source": [
        "### **3.3.1 교차 검증을 사용한 정확도 측정**"
      ]
    },
    {
      "cell_type": "markdown",
      "metadata": {
        "id": "rgQuToCXbbBs"
      },
      "source": [
        "* 교차검증기능 직접 구현 (StratifiedKFold)"
      ]
    },
    {
      "cell_type": "code",
      "execution_count": null,
      "metadata": {
        "colab": {
          "base_uri": "https://localhost:8080/"
        },
        "id": "SsQ8wsWPYCK-",
        "outputId": "1e0afb78-ce8a-40f5-84c1-c44fec8f438e"
      },
      "outputs": [
        {
          "name": "stdout",
          "output_type": "stream",
          "text": [
            "0.9669\n",
            "0.91625\n",
            "0.96785\n"
          ]
        }
      ],
      "source": [
        "from sklearn.model_selection import StratifiedKFold\n",
        "from sklearn.base import clone\n",
        "\n",
        "skfolds = StratifiedKFold(n_splits = 3, random_state = 42, shuffle = True)\n",
        "\n",
        "# 3개의 폴드 대상 계층적 샘플링 실행\n",
        "# 1,2,3의 폴드로 나누었을 때 1,2,3 각각 한번씩 test로 작용함\n",
        "# 따라서 총 세번의 반복이 이루어짐\n",
        "# 1이 테스트일때에는 2,3이 트레인 이런식 !\n",
        "\n",
        "# X_train, y_train_5를 기준 train 데이터의 인덱스, test 데이터의 인덱스를 이용해 데이터 분리\n",
        "for train_index, test_index in skfolds.split(X_train, y_train_5):\n",
        "  # 모델 복제\n",
        "  clone_clf = clone(sgd_clf)\n",
        "  # X_train[train_index] -> X_train.iloc[train_index,] 수정\n",
        "  X_train_folds = X_train.iloc[train_index,]\n",
        "  y_train_folds = y_train_5[train_index]\n",
        "  # X_train[test_index] -> X_train.iloc[test_index,] 수정\n",
        "  X_test_folds = X_train.iloc[test_index,]\n",
        "  y_test_folds = y_train_5[test_index]\n",
        "\n",
        "  # 학습 및 예측\n",
        "  clone_clf.fit(X_train_folds, y_train_folds)\n",
        "  y_pred = clone_clf.predict(X_test_folds)\n",
        "  n_correct = sum(y_pred == y_test_folds)\n",
        "  print(n_correct / len(y_pred))"
      ]
    },
    {
      "cell_type": "code",
      "execution_count": null,
      "metadata": {
        "colab": {
          "base_uri": "https://localhost:8080/"
        },
        "id": "W8fwy6Y_m6Xf",
        "outputId": "a9f9b956-a1f6-472b-ab60-13579ee0d85d"
      },
      "outputs": [
        {
          "name": "stdout",
          "output_type": "stream",
          "text": [
            "' 1 '\n",
            "[    1     3     4 ... 59994 59996 59998]\n",
            "[    0     2     6 ... 59995 59997 59999]\n",
            "' 2 '\n",
            "[    0     2     3 ... 59997 59998 59999]\n",
            "[    1    10    11 ... 59988 59989 59991]\n",
            "' 3 '\n",
            "[    0     1     2 ... 59995 59997 59999]\n",
            "[    3     4     5 ... 59994 59996 59998]\n"
          ]
        }
      ],
      "source": [
        "# 데이터 인덱스 형태\n",
        "skfolds = StratifiedKFold(n_splits = 3, random_state = 42, shuffle = True)\n",
        "\n",
        "i = 1\n",
        "\n",
        "for train_index, test_index in skfolds.split(X_train, y_train_5):\n",
        "  print(\"'\",i,\"'\")\n",
        "  print(train_index)\n",
        "  print(test_index)\n",
        "  i+=1"
      ]
    },
    {
      "cell_type": "markdown",
      "metadata": {
        "id": "L_aKAE2R7WYD"
      },
      "source": [
        "* **cross_val_score**\n",
        ": k-fold 교차검증을 보다 편리하게 할 수 있도록 하는 API\n",
        "  * cross_val_score(estimator, X, y, cv=교차 검증 폴드 수, scoring=평가지표)\n",
        "  * estimator가 classifier 종류이면 내부적으로 stratified KFold 로 진행된다는 의미"
      ]
    },
    {
      "cell_type": "code",
      "execution_count": null,
      "metadata": {
        "colab": {
          "base_uri": "https://localhost:8080/"
        },
        "id": "0npS3-C-71El",
        "outputId": "d27d3ca1-1900-4068-b74e-9634f5f4ec76"
      },
      "outputs": [
        {
          "data": {
            "text/plain": [
              "array([0.95035, 0.96035, 0.9604 ])"
            ]
          },
          "execution_count": 13,
          "metadata": {},
          "output_type": "execute_result"
        }
      ],
      "source": [
        "from sklearn.model_selection import cross_val_score\n",
        "cross_val_score(sgd_clf, X_train, y_train_5, cv = 3, scoring = 'accuracy')"
      ]
    },
    {
      "cell_type": "markdown",
      "metadata": {
        "id": "cz7pGmJv8JSK"
      },
      "source": [
        "* 모든 이미지를 '5 아님'으로 분류하는 더미 분류기 생성"
      ]
    },
    {
      "cell_type": "code",
      "execution_count": null,
      "metadata": {
        "id": "7RTbGf-p8O6y"
      },
      "outputs": [],
      "source": [
        "from sklearn.base import BaseEstimator\n",
        "\n",
        "class NeverClassifier(BaseEstimator):\n",
        "  def fit(self, X, y = None):\n",
        "    return self\n",
        "  def predict(self, X):\n",
        "    return np.zeros((len(X), 1), dtype = bool)"
      ]
    },
    {
      "cell_type": "code",
      "execution_count": null,
      "metadata": {
        "colab": {
          "base_uri": "https://localhost:8080/"
        },
        "id": "apOa2Fqc8pHD",
        "outputId": "d38b3581-8196-4c45-b8dd-cb1cae2dcdef"
      },
      "outputs": [
        {
          "data": {
            "text/plain": [
              "array([0.91125, 0.90855, 0.90915])"
            ]
          },
          "execution_count": 15,
          "metadata": {},
          "output_type": "execute_result"
        }
      ],
      "source": [
        "never_5_clf = NeverClassifier()\n",
        "cross_val_score(never_5_clf, X_train, y_train_5, cv = 3, scoring = 'accuracy')"
      ]
    },
    {
      "cell_type": "markdown",
      "metadata": {
        "id": "2ejneS2w9AHp"
      },
      "source": [
        "이미지의 10% 정도만 숫자 5이기 대문에 무조건 '5아님'으로 분류하면 정확히 맞출 확률이 90%이상 <br>\n",
        "-> **정확도를 분류기의 성능 측정 지표로 선호하지 않는** 이유 <br>\n",
        "-> 특히 **불균형한 데이터셋을 다룰 때** 더욱 선호하지 않음"
      ]
    },
    {
      "cell_type": "markdown",
      "metadata": {
        "id": "MAhoc9lZ9elp"
      },
      "source": [
        "### **3.3.2 오차행렬**"
      ]
    },
    {
      "cell_type": "markdown",
      "metadata": {
        "id": "sSSBJcli9qPS"
      },
      "source": [
        "* **오차행렬** : 클래스 A의 샘플이 클래스 B로 분류된 횟수를 세는 것\n",
        "  * 실제 타깃과 비교할 수 있도록 예측값을 먼저 생성해야 함"
      ]
    },
    {
      "cell_type": "markdown",
      "metadata": {
        "id": "9EvOKevf-MPH"
      },
      "source": [
        "* cross_val_predict()\n",
        "  * k-겹 교차 검증 수행\n",
        "  * 평가 점수 대신 각 테스트 폴드에서 얻은 예측을 반환\n",
        "  * 모든 샘플에 대한 예측을 얻을 수 있음"
      ]
    },
    {
      "cell_type": "code",
      "execution_count": null,
      "metadata": {
        "id": "E8NBN_ef9iVs"
      },
      "outputs": [],
      "source": [
        "from sklearn.model_selection import cross_val_predict\n",
        "y_train_pred = cross_val_predict(sgd_clf, X_train, y_train_5, cv = 3)"
      ]
    },
    {
      "cell_type": "markdown",
      "metadata": {
        "id": "1d0jA6C--eeY"
      },
      "source": [
        "* confusion_matrix() -> 오차행렬 생성 <br>\n",
        "\n",
        "![image.png](data:image/png;base64,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) <br>\n",
        "출처 ) https://velog.io/@sset2323/03-02.-%EC%98%A4%EC%B0%A8-%ED%96%89%EB%A0%AC-Confusion-Matrix"
      ]
    },
    {
      "cell_type": "code",
      "execution_count": null,
      "metadata": {
        "colab": {
          "base_uri": "https://localhost:8080/"
        },
        "id": "V9Eqsqzn-dNa",
        "outputId": "8b48ce47-d938-4ccb-ac30-1a2a36014e20"
      },
      "outputs": [
        {
          "data": {
            "text/plain": [
              "array([[53892,   687],\n",
              "       [ 1891,  3530]])"
            ]
          },
          "execution_count": 17,
          "metadata": {},
          "output_type": "execute_result"
        }
      ],
      "source": [
        "from sklearn.metrics import confusion_matrix\n",
        "confusion_matrix(y_train_5, y_train_pred)"
      ]
    },
    {
      "cell_type": "code",
      "execution_count": null,
      "metadata": {
        "colab": {
          "base_uri": "https://localhost:8080/"
        },
        "id": "nGbF3WgGA-zR",
        "outputId": "0e862aa6-b4ca-4fdd-9ff5-e669c4f08909"
      },
      "outputs": [
        {
          "data": {
            "text/plain": [
              "array([[54579,     0],\n",
              "       [    0,  5421]])"
            ]
          },
          "execution_count": 18,
          "metadata": {},
          "output_type": "execute_result"
        }
      ],
      "source": [
        "# 완벽한 분류기일 경우\n",
        "y_train_perfect_predictions = y_train_5\n",
        "confusion_matrix(y_train_5, y_train_perfect_predictions)"
      ]
    },
    {
      "cell_type": "markdown",
      "metadata": {
        "id": "VtyiLhP7BKpg"
      },
      "source": [
        "**=> 정밀도와 재현율을 함께 사용하는 것이 일반적**\n",
        "\n",
        "$$\n",
        "\\text{정밀도} = \\frac{\\text{TP}}{\\text{TP} + \\text{FP}}\n",
        "$$\n",
        "\n",
        "$$\n",
        "\\text{재현율} = \\frac{\\text{TP}}{\\text{TP} + \\text{FN}}\n",
        "$$\n",
        "<br>\n",
        "\n"
      ]
    },
    {
      "cell_type": "markdown",
      "metadata": {
        "id": "35Q6UxwiBXF-"
      },
      "source": [
        "![image.png](data:image/png;base64,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) <br>\n",
        "출처 ) https://m.blog.naver.com/qbxlvnf11/221497600125"
      ]
    },
    {
      "cell_type": "markdown",
      "metadata": {
        "id": "-uxpWXoyBZMq"
      },
      "source": [
        "### **3.3.3 정밀도와 재현율**"
      ]
    },
    {
      "cell_type": "markdown",
      "metadata": {
        "id": "hC_RF8u7Flcb"
      },
      "source": [
        "**정밀도&재현율은 트레이드오프 관계**\n",
        "* **정밀도** : 긍정으로 분류된 것 중에 실제로 긍정인 것\n",
        "* **재현율** : 실제 긍정인 것 중에 긍정으로 분류된 것"
      ]
    },
    {
      "cell_type": "markdown",
      "metadata": {
        "id": "k0zChj_wDVlA"
      },
      "source": [
        "* 정밀도와 재현율 계산"
      ]
    },
    {
      "cell_type": "code",
      "execution_count": null,
      "metadata": {
        "colab": {
          "base_uri": "https://localhost:8080/"
        },
        "id": "Iw2NyLo2CkF6",
        "outputId": "138afffa-37a3-470d-b461-6093f4fee0a2"
      },
      "outputs": [
        {
          "data": {
            "text/plain": [
              "0.8370879772350012"
            ]
          },
          "execution_count": 19,
          "metadata": {},
          "output_type": "execute_result"
        }
      ],
      "source": [
        "from sklearn.metrics import precision_score, recall_score\n",
        "precision_score(y_train_5, y_train_pred)"
      ]
    },
    {
      "cell_type": "code",
      "execution_count": null,
      "metadata": {
        "colab": {
          "base_uri": "https://localhost:8080/"
        },
        "id": "-gwK9riuCy36",
        "outputId": "2780f016-f7f7-4d28-d585-a9371497ea19"
      },
      "outputs": [
        {
          "data": {
            "text/plain": [
              "0.6511713705958311"
            ]
          },
          "execution_count": 20,
          "metadata": {},
          "output_type": "execute_result"
        }
      ],
      "source": [
        "recall_score(y_train_5, y_train_pred)"
      ]
    },
    {
      "cell_type": "markdown",
      "metadata": {
        "id": "vo7z-kheDuzO"
      },
      "source": [
        "* F1-score\n",
        "  * 정밀도와 재현율을 이용하여 F1-score 생성 <br>\n",
        "    -> F1-score는 정밀도와 재현율의 조화평균\n",
        "  * 정밀도와 재현율이 비슷한 분류기에서 높은 값을 지님\n",
        "  * 상황에 따라 재현율, 정밀도 중 어떤 것이 중요한지가 다르기 때문에 항상 바람직한 것은 아님\n"
      ]
    },
    {
      "cell_type": "code",
      "execution_count": null,
      "metadata": {
        "colab": {
          "base_uri": "https://localhost:8080/"
        },
        "id": "udEdW6clDm0Y",
        "outputId": "4d80c199-3588-4a72-a6e5-2f20d9bda97e"
      },
      "outputs": [
        {
          "data": {
            "text/plain": [
              "0.7325171197343846"
            ]
          },
          "execution_count": 21,
          "metadata": {},
          "output_type": "execute_result"
        }
      ],
      "source": [
        "from sklearn.metrics import f1_score\n",
        "f1_score(y_train_5, y_train_pred)"
      ]
    },
    {
      "cell_type": "markdown",
      "metadata": {
        "id": "R0HthK9DGlYH"
      },
      "source": [
        "### **3.3.4 정밀도/재현율 트레이드오프**\n",
        "* 임계값을 올리면 재현율은 낮아지고, 정밀도는 올라감\n",
        "* 임계값을 내리면 재현율은 높아지고, 정밀도는 내려감 "
      ]
    },
    {
      "cell_type": "markdown",
      "metadata": {
        "id": "VQ_wc2lJM36L"
      },
      "source": [
        "* decision_function() : 각 샘플의 점수를 얻을 수 있고 이를 기반으로 원하는 임계값을 정해 예측을 만들 수 있음 <br>\n",
        "  -> 여기서 각 샘플의 점수란 ? <br>\n",
        "  : 모델이 데이터 포인트가 양성 클래인 클래스 1에 속한다고 믿는 정도 <br>\n",
        "    훈련 데이터셋의 각 샘플이 테스트 폴드가 되었을 때의 결정 점수"
      ]
    },
    {
      "cell_type": "code",
      "execution_count": null,
      "metadata": {
        "colab": {
          "base_uri": "https://localhost:8080/"
        },
        "id": "FEdiqWUDGrA2",
        "outputId": "1d2b1716-6552-46d9-c175-47fa48178159"
      },
      "outputs": [
        {
          "name": "stderr",
          "output_type": "stream",
          "text": [
            "/usr/local/lib/python3.8/dist-packages/sklearn/base.py:450: UserWarning: X does not have valid feature names, but SGDClassifier was fitted with feature names\n",
            "  warnings.warn(\n"
          ]
        },
        {
          "data": {
            "text/plain": [
              "array([2164.22030239])"
            ]
          },
          "execution_count": 22,
          "metadata": {},
          "output_type": "execute_result"
        }
      ],
      "source": [
        "y_scores = sgd_clf.decision_function([some_digit])\n",
        "y_scores"
      ]
    },
    {
      "cell_type": "code",
      "execution_count": null,
      "metadata": {
        "colab": {
          "base_uri": "https://localhost:8080/"
        },
        "id": "nGESrjGLTeNh",
        "outputId": "bb605cbb-7f07-478e-ee65-4b5b42b1e56b"
      },
      "outputs": [
        {
          "data": {
            "text/plain": [
              "array([ True])"
            ]
          },
          "execution_count": 23,
          "metadata": {},
          "output_type": "execute_result"
        }
      ],
      "source": [
        "threshold = 0\n",
        "# 임계값보다 예측값이 높을 때 True로 분류\n",
        "y_some_digit_pred = (y_scores > threshold)\n",
        "y_some_digit_pred"
      ]
    },
    {
      "cell_type": "code",
      "execution_count": null,
      "metadata": {
        "colab": {
          "base_uri": "https://localhost:8080/"
        },
        "id": "VFrlhyu9UB5o",
        "outputId": "be818f78-734f-4a96-f049-62fb3cc3e638"
      },
      "outputs": [
        {
          "data": {
            "text/plain": [
              "array([False])"
            ]
          },
          "execution_count": 24,
          "metadata": {},
          "output_type": "execute_result"
        }
      ],
      "source": [
        "# 임계값을 올려보았을 때 결과가 달라짐\n",
        "# 임계값 높이면 재현율이 줄어들게 됨\n",
        "threshold = 8000\n",
        "y_some_digit_pred = (y_scores > threshold)\n",
        "y_some_digit_pred"
      ]
    },
    {
      "cell_type": "markdown",
      "metadata": {
        "id": "7xUrRKKPVkSQ"
      },
      "source": [
        "* 적절한 임계값 설정 <br>\n",
        "  -> 훈련 세트에 있는 모든 샘플의 점수를 계산하여 예측 결과가 아닌 결정 점수를 반환받도록 지정 <br>\n"
      ]
    },
    {
      "cell_type": "code",
      "execution_count": null,
      "metadata": {
        "id": "3goEhlxVV3R_"
      },
      "outputs": [],
      "source": [
        "y_scores = cross_val_predict(sgd_clf, X_train, y_train_5, cv = 3, method = 'decision_function')"
      ]
    },
    {
      "cell_type": "markdown",
      "metadata": {
        "id": "dxJOHPRRXBZG"
      },
      "source": [
        "* precision_recall_curve() : 모든 임계값에 대해 정밀도와 재현율 계산"
      ]
    },
    {
      "cell_type": "code",
      "execution_count": null,
      "metadata": {
        "id": "l0a6CtOXW1pW"
      },
      "outputs": [],
      "source": [
        "from sklearn.metrics import precision_recall_curve\n",
        "precisions, recalls, thresholds = precision_recall_curve(y_train_5, y_scores)"
      ]
    },
    {
      "cell_type": "code",
      "execution_count": null,
      "metadata": {
        "colab": {
          "base_uri": "https://localhost:8080/",
          "height": 265
        },
        "id": "Vz-M5JeEXJ1_",
        "outputId": "680b89dc-c823-4a6f-8f1b-1c1f01260f83"
      },
      "outputs": [
        {
          "data": {
            "image/png": "[encoded data removed]",
            "text/plain": [
              "<Figure size 432x288 with 1 Axes>"
            ]
          },
          "metadata": {},
          "output_type": "display_data"
        }
      ],
      "source": [
        "def plot_precison_recall_vs_threshold(precisions, recalls, thresholds):\n",
        "  plt.plot(thresholds, precisions[:-1], \"b-\", label = \"정밀도\")\n",
        "  plt.plot(thresholds, recalls[:-1], \"g-\", label = \"재현율\")\n",
        "\n",
        "plot_precison_recall_vs_threshold(precisions, recalls, thresholds)\n",
        "plt.show()"
      ]
    },
    {
      "cell_type": "markdown",
      "metadata": {
        "id": "Bhc0tHXsaL60"
      },
      "source": [
        "* 정밀도 90%가 목적이라면?<br>\n",
        "  = 정밀도가 90% 이상이 될 수 있는 임계값을 구하고 그 이상인 값들은 True <br>\n",
        "  = 모델이 True라고 분류한 것 중에서 실제 True인 것의 비율을 90% 이상이 되도록 한다.<br>\n",
        "  = y_scores는 데이터가 True로 분류될 것이라 믿는 정도"
      ]
    },
    {
      "cell_type": "code",
      "execution_count": null,
      "metadata": {
        "colab": {
          "base_uri": "https://localhost:8080/"
        },
        "id": "JDR1Dq8FX3VX",
        "outputId": "1e1ee7ff-2702-41df-c2ed-870f4d311d3f"
      },
      "outputs": [
        {
          "data": {
            "text/plain": [
              "3370.019499143958"
            ]
          },
          "execution_count": 28,
          "metadata": {},
          "output_type": "execute_result"
        }
      ],
      "source": [
        "# 정밀도가 최소 90%가 되는 임곗값 구하기\n",
        "threshold_90_precision = thresholds[np.argmax(precisions >= 0.90)]\n",
        "threshold_90_precision"
      ]
    },
    {
      "cell_type": "code",
      "execution_count": null,
      "metadata": {
        "colab": {
          "base_uri": "https://localhost:8080/"
        },
        "id": "1lGbrDqhRn99",
        "outputId": "037af438-30f1-47e9-aa7f-4a49c9db5b8a"
      },
      "outputs": [
        {
          "data": {
            "text/plain": [
              "array([  1200.93051237, -26883.79202424, -33072.03475406, ...,\n",
              "        13272.12718981,  -7258.47203373, -16877.50840447])"
            ]
          },
          "execution_count": 29,
          "metadata": {},
          "output_type": "execute_result"
        }
      ],
      "source": [
        "y_scores"
      ]
    },
    {
      "cell_type": "code",
      "execution_count": null,
      "metadata": {
        "colab": {
          "base_uri": "https://localhost:8080/"
        },
        "id": "F5f7VO7aYbR9",
        "outputId": "ce927b6e-233f-46e5-eb76-92c7866813fc"
      },
      "outputs": [
        {
          "data": {
            "text/plain": [
              "array([False, False, False, ...,  True, False, False])"
            ]
          },
          "execution_count": 30,
          "metadata": {},
          "output_type": "execute_result"
        }
      ],
      "source": [
        "# 위의 임계값보다 큰 값을 가지면 True\n",
        "y_train_pred_90 = (y_scores >= threshold_90_precision)\n",
        "y_train_pred_90"
      ]
    },
    {
      "cell_type": "code",
      "execution_count": null,
      "metadata": {
        "colab": {
          "base_uri": "https://localhost:8080/"
        },
        "id": "6yHQtXHAYcNd",
        "outputId": "e82bb219-5aff-49d1-ea4e-7e6d40d58b69"
      },
      "outputs": [
        {
          "data": {
            "text/plain": [
              "0.9000345901072293"
            ]
          },
          "execution_count": 31,
          "metadata": {},
          "output_type": "execute_result"
        }
      ],
      "source": [
        "precision_score(y_train_5, y_train_pred_90)"
      ]
    },
    {
      "cell_type": "code",
      "execution_count": null,
      "metadata": {
        "colab": {
          "base_uri": "https://localhost:8080/"
        },
        "id": "aJxbawxsYiUc",
        "outputId": "aa1d9418-2ed3-4720-d2f8-08e26532e21d"
      },
      "outputs": [
        {
          "data": {
            "text/plain": [
              "0.4799852425751706"
            ]
          },
          "execution_count": 32,
          "metadata": {},
          "output_type": "execute_result"
        }
      ],
      "source": [
        "recall_score(y_train_5, y_train_pred_90)"
      ]
    },
    {
      "cell_type": "markdown",
      "metadata": {
        "id": "keE8OVZfLCCN"
      },
      "source": [
        "### **3.3.5 ROC 곡선**\n",
        "1) 민감도(재현율, TPR)에 대한 1-특이도(FPR) 그래프 <br>\n",
        "2) 이진분류법에서 사용\n",
        "\n",
        "* TPR (True Positive Rate): 1인 케이스에 대해 1로 바르게 예측하는 비율 (Sensitivity)\n",
        "* FPR (False positive rate): 0인 케이스에 대해 1로 틀리게 예측하는 비율 (1-Specificity)<br>\n",
        "  -> TPR과 FPR은 **비례**관계 <br>\n",
        "  -> TPR과 특이도는 **반비례**관계 (FPR = 1- 특이도 이기 때문) \n",
        "<br><br>\n",
        "* 특이도 (Specificity) <br>\n",
        "  = 음성으로 정확하게 분류한 음성샘플의 비율 <br>\n",
        "  = 실제 음성이고 음성으로 분류된 것 / 실제 음성인 것 전부"
      ]
    },
    {
      "cell_type": "markdown",
      "metadata": {
        "id": "IlJ03kW9MdLa"
      },
      "source": [
        "* roc_curve(): 여러 임계값에서 TPR, FPR을 계산"
      ]
    },
    {
      "cell_type": "code",
      "execution_count": null,
      "metadata": {
        "id": "JT7A5C1TIQ_Y"
      },
      "outputs": [],
      "source": [
        "from sklearn.metrics import roc_curve\n",
        "\n",
        "fpr, tpr, thresholds = roc_curve(y_train_5, y_scores)"
      ]
    },
    {
      "cell_type": "markdown",
      "metadata": {
        "id": "oeEuQgjaM3bF"
      },
      "source": [
        "* ROC 곡선이 좌측 상단에 치우쳐 있을수록 좋은 분류기\n",
        "* ROC 곡선 아래의 면적을 AUC라고 하는데 ROC 곡선이 좌측 상단에 치우쳐 있을수록 그 면적이 더 넓어짐\n",
        "* AUC가 클수록 더 좋은 분류기"
      ]
    },
    {
      "cell_type": "code",
      "execution_count": null,
      "metadata": {
        "colab": {
          "base_uri": "https://localhost:8080/",
          "height": 265
        },
        "id": "w4bt53v4Kbe1",
        "outputId": "1766db8f-a88f-47ee-a26a-d331b83883ae"
      },
      "outputs": [
        {
          "data": {
            "image/png": "[encoded data removed]",
            "text/plain": [
              "<Figure size 432x288 with 1 Axes>"
            ]
          },
          "metadata": {},
          "output_type": "display_data"
        }
      ],
      "source": [
        "def plot_roc_curve(fpr, tpr, label = None):\n",
        "  plt.plot(fpr, tpr, linewidth = 2, label = label)\n",
        "  plt.plot([0,1], [0,1], 'k--')\n",
        "\n",
        "plot_roc_curve(fpr, tpr)\n",
        "plt.show()"
      ]
    },
    {
      "cell_type": "code",
      "execution_count": null,
      "metadata": {
        "colab": {
          "base_uri": "https://localhost:8080/"
        },
        "id": "g2TSVLpYKyyy",
        "outputId": "f0c0fdf9-30c9-4fd3-9792-6b5b40a9bc7d"
      },
      "outputs": [
        {
          "data": {
            "text/plain": [
              "0.9604938554008616"
            ]
          },
          "execution_count": 35,
          "metadata": {},
          "output_type": "execute_result"
        }
      ],
      "source": [
        "from sklearn.metrics import roc_auc_score\n",
        "roc_auc_score(y_train_5, y_scores)"
      ]
    },
    {
      "cell_type": "markdown",
      "metadata": {
        "id": "Oz4_Gn7eb1xv"
      },
      "source": [
        "* **SGDClassifier VS RandomForestClassifier**"
      ]
    },
    {
      "cell_type": "markdown",
      "metadata": {
        "id": "gJmo_qGIWRQ2"
      },
      "source": [
        "* predict_proba()\n",
        "  * RandomForestClassifier에 내장된 메서드 (SGD의 decision_function() 대신)\n",
        "  * 샘플이 행, 클래스가 열 -> 샘플이 주어진 클래스에 속할 확률을 담은 배열 반환"
      ]
    },
    {
      "cell_type": "code",
      "execution_count": null,
      "metadata": {
        "id": "9q__XJD_b-4x"
      },
      "outputs": [],
      "source": [
        "from sklearn.ensemble import RandomForestClassifier\n",
        "\n",
        "forest_clf = RandomForestClassifier(random_state = 42)\n",
        "y_probas_forest = cross_val_predict(forest_clf, X_train, y_train_5, cv = 3, method  = 'predict_proba')"
      ]
    },
    {
      "cell_type": "code",
      "execution_count": null,
      "metadata": {
        "colab": {
          "base_uri": "https://localhost:8080/"
        },
        "id": "vn52zAtoW3Ye",
        "outputId": "f9fc07fa-24d6-44ec-a4f4-24ca2f74ae1e"
      },
      "outputs": [
        {
          "data": {
            "text/plain": [
              "array([[0.11, 0.89],\n",
              "       [0.99, 0.01],\n",
              "       [0.96, 0.04],\n",
              "       ...,\n",
              "       [0.02, 0.98],\n",
              "       [0.92, 0.08],\n",
              "       [0.94, 0.06]])"
            ]
          },
          "execution_count": 44,
          "metadata": {},
          "output_type": "execute_result"
        }
      ],
      "source": [
        "y_probas_forest"
      ]
    },
    {
      "cell_type": "code",
      "execution_count": null,
      "metadata": {
        "id": "-NZALwZGb-8M"
      },
      "outputs": [],
      "source": [
        "y_scores_forest = y_probas_forest[:,1]\n",
        "fpr_forest, tpr_forest, thresholds_forest = roc_curve(y_train_5, y_scores_forest)"
      ]
    },
    {
      "cell_type": "markdown",
      "metadata": {
        "id": "-udZHkwNXAnA"
      },
      "source": [
        "* 랜덤 포레스트 분류기가 SGD 분류기보다 훨씬 좋다는 결론 (AUC 비교)"
      ]
    },
    {
      "cell_type": "code",
      "execution_count": null,
      "metadata": {
        "colab": {
          "base_uri": "https://localhost:8080/",
          "height": 265
        },
        "id": "i7v9pRJiVwuf",
        "outputId": "a7dcbde1-35bd-4a92-ce25-9a063b4df2a6"
      },
      "outputs": [
        {
          "data": {
            "image/png": "[encoded data removed]",
            "text/plain": [
              "<Figure size 432x288 with 1 Axes>"
            ]
          },
          "metadata": {},
          "output_type": "display_data"
        }
      ],
      "source": [
        "plt.plot(fpr, tpr, \"b:\", label = \"SGD\")\n",
        "plot_roc_curve(fpr_forest, tpr_forest, \"RF\")\n",
        "plt.legend(loc = 'lower right')\n",
        "plt.show()"
      ]
    },
    {
      "cell_type": "code",
      "execution_count": null,
      "metadata": {
        "colab": {
          "base_uri": "https://localhost:8080/"
        },
        "id": "APNHlFwzXZYX",
        "outputId": "5f9e7e7f-315f-41db-c059-655a2df4daec"
      },
      "outputs": [
        {
          "data": {
            "text/plain": [
              "0.9983436731328145"
            ]
          },
          "execution_count": 46,
          "metadata": {},
          "output_type": "execute_result"
        }
      ],
      "source": [
        "roc_auc_score(y_train_5, y_scores_forest)"
      ]
    },
    {
      "cell_type": "markdown",
      "metadata": {
        "id": "Beju80K-XoP-"
      },
      "source": [
        "## **3.4 다중 분류**\n",
        ": 둘 이상의 클래스 구별"
      ]
    },
    {
      "cell_type": "markdown",
      "metadata": {
        "id": "yRWYDHTjYRmv"
      },
      "source": [
        "* 이진 분류기를 여러개 이용해 다중 클래스를 분류하는 기법\n",
        "  * **OvR [OvA]** : 각 클래스별 이진 분류기를 n개 만들어 훈련시켜서 각 분류기의 결정 점수 중 가장 높은 것을 클래스로 선택\n",
        "  * **OvO** : 각 클래스의 조합마다의 이진 분류기를 훈련시키는 방식<br>\n",
        "    - 클래스가 n개일때 분류기는 n(n-1)/2 개가 필요한 셈<br>\n",
        "    - 각 분류기의 훈련에 전체 훈련 세트 중 두 클래스에 해당하는 샘플만 필요하다는 것이 장점 <br>\n",
        "\n",
        "  => 대부분은 OvR을 선호 / SVM과 같은 일부 훈련 세트 크기에 민감한 알고리즘은 OvO를 선호"
      ]
    },
    {
      "cell_type": "code",
      "execution_count": null,
      "metadata": {
        "colab": {
          "base_uri": "https://localhost:8080/"
        },
        "id": "PoIjFNwYWM39",
        "outputId": "e48dfd0b-c397-420a-bdf6-0cdaef62a97f"
      },
      "outputs": [
        {
          "name": "stderr",
          "output_type": "stream",
          "text": [
            "/usr/local/lib/python3.8/dist-packages/sklearn/base.py:450: UserWarning: X does not have valid feature names, but SVC was fitted with feature names\n",
            "  warnings.warn(\n"
          ]
        },
        {
          "data": {
            "text/plain": [
              "array([5], dtype=uint8)"
            ]
          },
          "execution_count": 48,
          "metadata": {},
          "output_type": "execute_result"
        }
      ],
      "source": [
        "from sklearn.svm import SVC\n",
        "svm_clf = SVC()\n",
        "svm_clf.fit(X_train, y_train)\n",
        "svm_clf.predict([some_digit])"
      ]
    },
    {
      "cell_type": "markdown",
      "metadata": {
        "id": "dUNR5QvQdFwJ"
      },
      "source": [
        "* decision_function() : 샘플당 10개의 점수를 반환 (클래스마다 하나씩)"
      ]
    },
    {
      "cell_type": "code",
      "execution_count": null,
      "metadata": {
        "colab": {
          "base_uri": "https://localhost:8080/"
        },
        "id": "PyeTs7B5Z_3X",
        "outputId": "1645c616-6bf5-413b-8538-cceb5013a815"
      },
      "outputs": [
        {
          "name": "stderr",
          "output_type": "stream",
          "text": [
            "/usr/local/lib/python3.8/dist-packages/sklearn/base.py:450: UserWarning: X does not have valid feature names, but SVC was fitted with feature names\n",
            "  warnings.warn(\n"
          ]
        },
        {
          "data": {
            "text/plain": [
              "array([[ 1.72501977,  2.72809088,  7.2510018 ,  8.3076379 , -0.31087254,\n",
              "         9.3132482 ,  1.70975103,  2.76765202,  6.23049537,  4.84771048]])"
            ]
          },
          "execution_count": 50,
          "metadata": {},
          "output_type": "execute_result"
        }
      ],
      "source": [
        "some_digit_scores = svm_clf.decision_function([some_digit])\n",
        "some_digit_scores"
      ]
    },
    {
      "cell_type": "markdown",
      "metadata": {
        "id": "WpaSgWQneW7-"
      },
      "source": [
        "* 클래스 5에 해당하는 값이 가장 높은 점수"
      ]
    },
    {
      "cell_type": "code",
      "execution_count": null,
      "metadata": {
        "colab": {
          "base_uri": "https://localhost:8080/"
        },
        "id": "zxcT1FhgeSZA",
        "outputId": "e6c52911-16f0-4271-eb57-15c2b06a91bf"
      },
      "outputs": [
        {
          "data": {
            "text/plain": [
              "5"
            ]
          },
          "execution_count": 51,
          "metadata": {},
          "output_type": "execute_result"
        }
      ],
      "source": [
        "np.argmax(some_digit_scores)"
      ]
    },
    {
      "cell_type": "code",
      "execution_count": null,
      "metadata": {
        "colab": {
          "base_uri": "https://localhost:8080/"
        },
        "id": "qYTqehDTebNh",
        "outputId": "f636fc5e-917a-4880-8ca7-9efcfeb3a80e"
      },
      "outputs": [
        {
          "data": {
            "text/plain": [
              "array([0, 1, 2, 3, 4, 5, 6, 7, 8, 9], dtype=uint8)"
            ]
          },
          "execution_count": 52,
          "metadata": {},
          "output_type": "execute_result"
        }
      ],
      "source": [
        "svm_clf.classes_"
      ]
    },
    {
      "cell_type": "code",
      "execution_count": null,
      "metadata": {
        "colab": {
          "base_uri": "https://localhost:8080/"
        },
        "id": "qUR2aoT4ebXV",
        "outputId": "050971a6-d443-442d-aed0-81e2409816e5"
      },
      "outputs": [
        {
          "data": {
            "text/plain": [
              "5"
            ]
          },
          "execution_count": 53,
          "metadata": {},
          "output_type": "execute_result"
        }
      ],
      "source": [
        "svm_clf.classes_[5]"
      ]
    },
    {
      "cell_type": "markdown",
      "metadata": {
        "id": "rxnDQw98eoag"
      },
      "source": [
        "* OvO나 OvR을 강제로 사용하도록 설정하는 방법 -> **OneVsOneClassifier** or **OneVsRestClassifier** 사용 <br>\n",
        "  * 이진 분류기일 필요 없음\n",
        "  * 이진 분류기 인스턴스를 만들어 객체 생성시에 전달"
      ]
    },
    {
      "cell_type": "code",
      "execution_count": null,
      "metadata": {
        "colab": {
          "base_uri": "https://localhost:8080/"
        },
        "id": "Echvs8Moe3pZ",
        "outputId": "7d424537-a09a-4013-9fa5-2bb45961913e"
      },
      "outputs": [
        {
          "name": "stderr",
          "output_type": "stream",
          "text": [
            "/usr/local/lib/python3.8/dist-packages/sklearn/base.py:450: UserWarning: X does not have valid feature names, but SVC was fitted with feature names\n",
            "  warnings.warn(\n",
            "/usr/local/lib/python3.8/dist-packages/sklearn/base.py:450: UserWarning: X does not have valid feature names, but SVC was fitted with feature names\n",
            "  warnings.warn(\n",
            "/usr/local/lib/python3.8/dist-packages/sklearn/base.py:450: UserWarning: X does not have valid feature names, but SVC was fitted with feature names\n",
            "  warnings.warn(\n",
            "/usr/local/lib/python3.8/dist-packages/sklearn/base.py:450: UserWarning: X does not have valid feature names, but SVC was fitted with feature names\n",
            "  warnings.warn(\n",
            "/usr/local/lib/python3.8/dist-packages/sklearn/base.py:450: UserWarning: X does not have valid feature names, but SVC was fitted with feature names\n",
            "  warnings.warn(\n",
            "/usr/local/lib/python3.8/dist-packages/sklearn/base.py:450: UserWarning: X does not have valid feature names, but SVC was fitted with feature names\n",
            "  warnings.warn(\n",
            "/usr/local/lib/python3.8/dist-packages/sklearn/base.py:450: UserWarning: X does not have valid feature names, but SVC was fitted with feature names\n",
            "  warnings.warn(\n",
            "/usr/local/lib/python3.8/dist-packages/sklearn/base.py:450: UserWarning: X does not have valid feature names, but SVC was fitted with feature names\n",
            "  warnings.warn(\n",
            "/usr/local/lib/python3.8/dist-packages/sklearn/base.py:450: UserWarning: X does not have valid feature names, but SVC was fitted with feature names\n",
            "  warnings.warn(\n",
            "/usr/local/lib/python3.8/dist-packages/sklearn/base.py:450: UserWarning: X does not have valid feature names, but SVC was fitted with feature names\n",
            "  warnings.warn(\n"
          ]
        },
        {
          "data": {
            "text/plain": [
              "array([5], dtype=uint8)"
            ]
          },
          "execution_count": 54,
          "metadata": {},
          "output_type": "execute_result"
        }
      ],
      "source": [
        "from sklearn.multiclass import OneVsRestClassifier\n",
        "ovr_clf = OneVsRestClassifier(SVC())\n",
        "ovr_clf.fit(X_train, y_train)\n",
        "ovr_clf.predict([some_digit])"
      ]
    },
    {
      "cell_type": "code",
      "execution_count": null,
      "metadata": {
        "colab": {
          "base_uri": "https://localhost:8080/"
        },
        "id": "E_UVei7pfWK1",
        "outputId": "c957e415-76d0-43db-ea15-3be3eb864f73"
      },
      "outputs": [
        {
          "data": {
            "text/plain": [
              "10"
            ]
          },
          "execution_count": 57,
          "metadata": {},
          "output_type": "execute_result"
        }
      ],
      "source": [
        "len(ovr_clf.estimators_)"
      ]
    },
    {
      "cell_type": "markdown",
      "metadata": {
        "id": "LPfqwmOOf32I"
      },
      "source": [
        "* SGDClassifier 훈련 <br>\n",
        "  cf) SGD 분류기는 직접 샘플을 다중 클래스로 분류할 수 있기 때문에 별도로 OvR이나 OvO를 적용할 필요 없음"
      ]
    },
    {
      "cell_type": "code",
      "execution_count": null,
      "metadata": {
        "colab": {
          "base_uri": "https://localhost:8080/"
        },
        "id": "fL7XH705f2Qz",
        "outputId": "d7ffcfcf-617b-448f-d277-9dfdb75302cb"
      },
      "outputs": [
        {
          "name": "stderr",
          "output_type": "stream",
          "text": [
            "/usr/local/lib/python3.8/dist-packages/sklearn/base.py:450: UserWarning: X does not have valid feature names, but SGDClassifier was fitted with feature names\n",
            "  warnings.warn(\n"
          ]
        },
        {
          "data": {
            "text/plain": [
              "array([2164.22030239])"
            ]
          },
          "execution_count": 58,
          "metadata": {},
          "output_type": "execute_result"
        }
      ],
      "source": [
        "sgd_clf.decision_function([some_digit])"
      ]
    },
    {
      "cell_type": "markdown",
      "metadata": {
        "id": "vRXXaVlOgSvM"
      },
      "source": [
        "* 분류기 평가를 위해 교차 검증 사용 (일반적인 절차)"
      ]
    },
    {
      "cell_type": "code",
      "execution_count": null,
      "metadata": {
        "colab": {
          "base_uri": "https://localhost:8080/"
        },
        "id": "6w4jra_PgQrz",
        "outputId": "f575090d-15c9-4e49-81fb-bf4311131e0a"
      },
      "outputs": [
        {
          "data": {
            "text/plain": [
              "array([0.87365, 0.85835, 0.8689 ])"
            ]
          },
          "execution_count": 59,
          "metadata": {},
          "output_type": "execute_result"
        }
      ],
      "source": [
        "cross_val_score(sgd_clf, X_train, y_train, cv = 3, scoring = 'accuracy')"
      ]
    },
    {
      "cell_type": "markdown",
      "metadata": {
        "id": "GfYx2OZMgjZY"
      },
      "source": [
        "* 입력 스케일 조정을 통해 정확도 상승"
      ]
    },
    {
      "cell_type": "code",
      "execution_count": null,
      "metadata": {
        "colab": {
          "background_save": true
        },
        "id": "vCadmHJpgeJB",
        "outputId": "bc09712d-d0f6-4723-b65d-cc18e8db3f5d"
      },
      "outputs": [
        {
          "data": {
            "text/plain": [
              "array([0.8983, 0.891 , 0.9018])"
            ]
          },
          "execution_count": 62,
          "metadata": {},
          "output_type": "execute_result"
        }
      ],
      "source": [
        "from sklearn.preprocessing import StandardScaler\n",
        "scaler = StandardScaler()\n",
        "X_train_scaled = scaler.fit_transform(X_train.astype(np.float64))\n",
        "cross_val_score(sgd_clf, X_train_scaled, y_train, cv = 3, scoring = 'accuracy')"
      ]
    },
    {
      "cell_type": "markdown",
      "metadata": {
        "id": "Xq_Cbu-3mDza"
      },
      "source": [
        "## **3.5 에러 분석**"
      ]
    },
    {
      "cell_type": "markdown",
      "source": [
        "* 오차 행렬을 분석하여 성능 향상 방안 도출에 사용할 수 있음"
      ],
      "metadata": {
        "id": "-tpInHkTNEIv"
      }
    },
    {
      "cell_type": "markdown",
      "metadata": {
        "id": "M4X4cp87mozW"
      },
      "source": [
        "* cross_val_predict로 예측을 만든 후 오차행렬 확인"
      ]
    },
    {
      "cell_type": "code",
      "execution_count": null,
      "metadata": {
        "colab": {
          "background_save": true
        },
        "id": "y1jfPOfcl36s",
        "outputId": "54024759-c04a-407f-f669-fe1ab73f601d"
      },
      "outputs": [
        {
          "data": {
            "text/plain": [
              "array([[5577,    0,   22,    5,    8,   43,   36,    6,  225,    1],\n",
              "       [   0, 6400,   37,   24,    4,   44,    4,    7,  212,   10],\n",
              "       [  27,   27, 5220,   92,   73,   27,   67,   36,  378,   11],\n",
              "       [  22,   17,  117, 5227,    2,  203,   27,   40,  403,   73],\n",
              "       [  12,   14,   41,    9, 5182,   12,   34,   27,  347,  164],\n",
              "       [  27,   15,   30,  168,   53, 4444,   75,   14,  535,   60],\n",
              "       [  30,   15,   42,    3,   44,   97, 5552,    3,  131,    1],\n",
              "       [  21,   10,   51,   30,   49,   12,    3, 5684,  195,  210],\n",
              "       [  17,   63,   48,   86,    3,  126,   25,   10, 5429,   44],\n",
              "       [  25,   18,   30,   64,  118,   36,    1,  179,  371, 5107]])"
            ]
          },
          "execution_count": 63,
          "metadata": {},
          "output_type": "execute_result"
        }
      ],
      "source": [
        "y_train_pred = cross_val_predict(sgd_clf, X_train_scaled, y_train, cv = 3)\n",
        "conf_mx = confusion_matrix(y_train, y_train_pred)\n",
        "conf_mx"
      ]
    },
    {
      "cell_type": "markdown",
      "metadata": {
        "id": "JHwdQuBwmxJZ"
      },
      "source": [
        "* 오차행렬 이미지화\n",
        "  * 주대각선 : 이미지가 올바르게 분류되었음을 의미\n",
        "  * 색이 어두울수록 잘 분류되지 못했거나 해당 클래스의 샘플이 적다는 의미 <br>\n",
        "\n",
        "  => 해당 그래프에서는 숫자 5가 다른 숫자보다 어둡게 나타남"
      ]
    },
    {
      "cell_type": "code",
      "execution_count": null,
      "metadata": {
        "colab": {
          "background_save": true
        },
        "id": "anazKgiAmmGx",
        "outputId": "db1dee32-3497-4681-f96b-2c6f9349c469"
      },
      "outputs": [
        {
          "data": {
            "image/png": "[encoded data removed]",
            "text/plain": [
              "<Figure size 288x288 with 1 Axes>"
            ]
          },
          "metadata": {},
          "output_type": "display_data"
        }
      ],
      "source": [
        "plt.matshow(conf_mx, cmap = plt.cm.gray)\n",
        "plt.show()"
      ]
    },
    {
      "cell_type": "markdown",
      "metadata": {
        "id": "4o0hRt32nj6q"
      },
      "source": [
        "* 5가 다른 숫자보다 어둡게 나타나는 것이 그래프의 에러라면 <br>\n",
        "  -> **에러 비율**을 비교 (오차행렬의 각 값 / 대응되는 클래스의 이미지 개수) <br>\n",
        "  -> **에러의 절대 개수가 아닌 에러 비율임에 주의할 것**"
      ]
    },
    {
      "cell_type": "code",
      "execution_count": 69,
      "metadata": {
        "colab": {
          "base_uri": "https://localhost:8080/"
        },
        "id": "293E9NcxoLmZ",
        "outputId": "96691712-c527-4536-b646-b6821ce8e2e1"
      },
      "outputs": [
        {
          "output_type": "stream",
          "name": "stdout",
          "text": [
            "[[5923]\n",
            " [6742]\n",
            " [5958]\n",
            " [6131]\n",
            " [5842]\n",
            " [5421]\n",
            " [5918]\n",
            " [6265]\n",
            " [5851]\n",
            " [5949]] \n",
            "\n",
            "[[9.41583657e-01 0.00000000e+00 3.71433395e-03 8.44166807e-04\n",
            "  1.35066689e-03 7.25983454e-03 6.07800101e-03 1.01300017e-03\n",
            "  3.79875063e-02 1.68833361e-04]\n",
            " [0.00000000e+00 9.49273213e-01 5.48798576e-03 3.55977455e-03\n",
            "  5.93295758e-04 6.52625334e-03 5.93295758e-04 1.03826758e-03\n",
            "  3.14446752e-02 1.48323939e-03]\n",
            " [4.53172205e-03 4.53172205e-03 8.76132931e-01 1.54414233e-02\n",
            "  1.22524337e-02 4.53172205e-03 1.12453844e-02 6.04229607e-03\n",
            "  6.34441088e-02 1.84625713e-03]\n",
            " [3.58832164e-03 2.77279400e-03 1.90833469e-02 8.52552602e-01\n",
            "  3.26211059e-04 3.31104224e-02 4.40384929e-03 6.52422117e-03\n",
            "  6.57315283e-02 1.19067036e-02]\n",
            " [2.05409106e-03 2.39643958e-03 7.01814447e-03 1.54056830e-03\n",
            "  8.87024991e-01 2.05409106e-03 5.81992468e-03 4.62170490e-03\n",
            "  5.93974666e-02 2.80725779e-02]\n",
            " [4.98063088e-03 2.76701716e-03 5.53403431e-03 3.09905921e-02\n",
            "  9.77679395e-03 8.19774949e-01 1.38350858e-02 2.58254935e-03\n",
            "  9.86902785e-02 1.10680686e-02]\n",
            " [5.06928016e-03 2.53464008e-03 7.09699223e-03 5.06928016e-04\n",
            "  7.43494424e-03 1.63906725e-02 9.38154782e-01 5.06928016e-04\n",
            "  2.21358567e-02 1.68976005e-04]\n",
            " [3.35195531e-03 1.59616919e-03 8.14046289e-03 4.78850758e-03\n",
            "  7.82122905e-03 1.91540303e-03 4.78850758e-04 9.07262570e-01\n",
            "  3.11252993e-02 3.35195531e-02]\n",
            " [2.90548624e-03 1.07673902e-02 8.20372586e-03 1.46983422e-02\n",
            "  5.12732866e-04 2.15347804e-02 4.27277388e-03 1.70910955e-03\n",
            "  9.27875577e-01 7.52008204e-03]\n",
            " [4.20238696e-03 3.02571861e-03 5.04286435e-03 1.07581106e-02\n",
            "  1.98352664e-02 6.05143722e-03 1.68095478e-04 3.00890906e-02\n",
            "  6.23634224e-02 8.58463607e-01]]\n"
          ]
        }
      ],
      "source": [
        "row_sums = conf_mx.sum(axis = 1, keepdims = True) # 실제 클래스 당 이미지 개수\n",
        "norm_conf_mx = conf_mx / row_sums # 오차행렬의 각 값을 대응되는 클래스의 총 이미지 개수로 나눔\n",
        "print(row_sums, '\\n')\n",
        "print(norm_conf_mx)"
      ]
    },
    {
      "cell_type": "markdown",
      "source": [
        "* **행**은 **실제 클래스**를 나타내고, **열**은 **예측한 클래스**를 나타낸다.\n",
        "  *  8행과 8열을 비교 <br> \n",
        "    -> 8열은 상당히 밝아 많은 이미지가 8로 잘못 분류되었음을 확인할 수 있고 & 8행을 보았을 때는 적절히 8로 분류되었음을 확인할 수 있음 <br>\n",
        "        \n",
        "  -> **\"오차 행렬이 반드시 대칭인 것은 아님\"**"
      ],
      "metadata": {
        "id": "AgIYu_gA41gb"
      }
    },
    {
      "cell_type": "code",
      "execution_count": null,
      "metadata": {
        "colab": {
          "background_save": true
        },
        "id": "3v-7CPuGoPYB",
        "outputId": "0ddea1eb-703e-404e-bce5-ad5b2c9dbd48"
      },
      "outputs": [
        {
          "data": {
            "image/png": "[encoded data removed]",
            "text/plain": [
              "<Figure size 288x288 with 1 Axes>"
            ]
          },
          "metadata": {},
          "output_type": "display_data"
        }
      ],
      "source": [
        "# 주대각선만 0으로 채워서 그래프 그림\n",
        "np.fill_diagonal(norm_conf_mx, 0)\n",
        "plt.matshow(norm_conf_mx, cmap = plt.cm.gray)\n",
        "plt.show()"
      ]
    },
    {
      "cell_type": "markdown",
      "source": [
        "* 개개의 에러 분석 ex. 3과 5의 샘플"
      ],
      "metadata": {
        "id": "eew2_TnhNNwe"
      }
    },
    {
      "cell_type": "markdown",
      "source": [
        "교재 내 코드를 그대로 적용하면 \" 'str' object has no attribute 'reshape' \"라는 오류 발생 <br>\n",
        "따라서 plot_digits 함수 내에 \" instances = np.array(instances) \"를 추가하여 데이터 프레임을 배열 형태로 변환시켜줌"
      ],
      "metadata": {
        "id": "LHWUIPPCPGFP"
      }
    },
    {
      "cell_type": "code",
      "source": [
        "# 숫자 그림을 위한 추가 함수\n",
        "import matplotlib as mpl\n",
        "def plot_digits(instances, images_per_row=10, **options):\n",
        "    size = 28\n",
        "    images_per_row = min(len(instances), images_per_row)\n",
        "    instances = np.array(instances)\n",
        "    images = [instance.reshape(size,size) for instance in instances]\n",
        "    n_rows = (len(instances) - 1) // images_per_row + 1\n",
        "    row_images = []\n",
        "    n_empty = n_rows * images_per_row - len(instances)\n",
        "    images.append(np.zeros((size, size * n_empty)))\n",
        "    for row in range(n_rows):\n",
        "        rimages = images[row * images_per_row : (row + 1) * images_per_row]\n",
        "        row_images.append(np.concatenate(rimages, axis=1))\n",
        "    image = np.concatenate(row_images, axis=0)\n",
        "    plt.imshow(image, cmap = mpl.cm.binary, **options)\n",
        "    plt.axis(\"off\")"
      ],
      "metadata": {
        "id": "MWVPKtkHOAOo"
      },
      "execution_count": 90,
      "outputs": []
    },
    {
      "cell_type": "code",
      "execution_count": 91,
      "metadata": {
        "id": "e5kPVHP8odrC"
      },
      "outputs": [],
      "source": [
        "cl_a, cl_b = 3, 5\n",
        "X_aa = X_train[(y_train == cl_a) & (y_train_pred == cl_a)]\n",
        "X_ab = X_train[(y_train == cl_a) & (y_train_pred == cl_b)]\n",
        "X_ba = X_train[(y_train == cl_b) & (y_train_pred == cl_a)]\n",
        "X_bb = X_train[(y_train == cl_b) & (y_train_pred == cl_b)]"
      ]
    },
    {
      "cell_type": "markdown",
      "source": [
        "* 왼쪽 블럭 두 개 : 3으로 분류된 것 / 오른쪽 블럭 두 개 : 5로 분류된 것"
      ],
      "metadata": {
        "id": "519VVAtHPbSp"
      }
    },
    {
      "cell_type": "code",
      "source": [
        "plt.figure(figsize = (8,8))\n",
        "plt.subplot(221) ; plot_digits(X_aa[:25], images_per_row = 5)\n",
        "plt.subplot(222) ; plot_digits(X_ab[:25], images_per_row = 5)\n",
        "plt.subplot(223) ; plot_digits(X_ba[:25], images_per_row = 5)\n",
        "plt.subplot(224) ; plot_digits(X_bb[:25], images_per_row = 5)\n",
        "plt.show()"
      ],
      "metadata": {
        "colab": {
          "base_uri": "https://localhost:8080/",
          "height": 466
        },
        "id": "pN3r70lVOFZv",
        "outputId": "e55079ee-dfbc-4947-bb0f-9be3e019bf68"
      },
      "execution_count": 92,
      "outputs": [
        {
          "output_type": "display_data",
          "data": {
            "text/plain": [
              "<Figure size 576x576 with 4 Axes>"
            ],
            "image/png": "[encoded data removed]"
          },
          "metadata": {
            "needs_background": "light"
          }
        }
      ]
    },
    {
      "cell_type": "markdown",
      "source": [
        "* 잘못 분류된 **원인** ? <br>\n",
        ": **선형 모델**인 SGD를 사용했기 때문 !<br>\n",
        "\n",
        "* **선형 모델**이 어때서 ? <br>\n",
        "  -> 선형 분류기는 **클래스마다 픽셀에 가중치를 할당**하고 새로운 이미지에 대해 **단순히 픽셀 강도의 가중치 합**을 클래스의 점수로 계산 <br>\n",
        "  -> 3이랑 5는 비슷해서 몇 개의 픽셀만 다르니까 모델이 혼동하기 쉬운 것 !"
      ],
      "metadata": {
        "id": "6abZRqWHP1aq"
      }
    },
    {
      "cell_type": "markdown",
      "source": [
        "## **3.6 다중 레이블 분류**\n",
        ": 분류기가 샘플마다 여러 개의 클래스를 출력"
      ],
      "metadata": {
        "id": "m5X_HiFSQjP1"
      }
    },
    {
      "cell_type": "code",
      "source": [
        "from sklearn.neighbors import KNeighborsClassifier\n",
        "\n",
        "y_train_large = (y_train >= 7) # 7보다 크고\n",
        "y_train_odd = (y_train % 2 == 1) # 홀수\n",
        "y_multilabel = np.c_[y_train_large, y_train_odd] #각 숫자 이미지에 두 개의 타깃 레이블이 담긴 멀티레이블 / np.c_ : 일차원 배열 붙여서 2차원 배열 만들기\n",
        "print(y_multilabel, '\\n\\n', y_train_large, '\\n\\n', y_train_odd)"
      ],
      "metadata": {
        "colab": {
          "base_uri": "https://localhost:8080/"
        },
        "id": "uiJqlT1cPvBw",
        "outputId": "22e6ec77-beb8-4c3c-b30e-3d6170a808c9"
      },
      "execution_count": 99,
      "outputs": [
        {
          "output_type": "stream",
          "name": "stdout",
          "text": [
            "[[False  True]\n",
            " [False False]\n",
            " [False False]\n",
            " ...\n",
            " [False  True]\n",
            " [False False]\n",
            " [ True False]] \n",
            "\n",
            " 0        False\n",
            "1        False\n",
            "2        False\n",
            "3        False\n",
            "4         True\n",
            "         ...  \n",
            "59995     True\n",
            "59996    False\n",
            "59997    False\n",
            "59998    False\n",
            "59999     True\n",
            "Name: class, Length: 60000, dtype: bool \n",
            "\n",
            " 0         True\n",
            "1        False\n",
            "2        False\n",
            "3         True\n",
            "4         True\n",
            "         ...  \n",
            "59995    False\n",
            "59996     True\n",
            "59997     True\n",
            "59998    False\n",
            "59999    False\n",
            "Name: class, Length: 60000, dtype: bool\n"
          ]
        }
      ]
    },
    {
      "cell_type": "code",
      "source": [
        "knn_clf = KNeighborsClassifier()\n",
        "knn_clf.fit(X_train, y_multilabel)"
      ],
      "metadata": {
        "colab": {
          "base_uri": "https://localhost:8080/"
        },
        "id": "P_nC4t7MRRxA",
        "outputId": "3587c407-5d9a-4cd4-8b15-b8ef4cb176df"
      },
      "execution_count": 100,
      "outputs": [
        {
          "output_type": "execute_result",
          "data": {
            "text/plain": [
              "KNeighborsClassifier()"
            ]
          },
          "metadata": {},
          "execution_count": 100
        }
      ]
    },
    {
      "cell_type": "markdown",
      "source": [
        "* some_digit = 5 이므로 7보다 작음 -> False, 홀수 -> True"
      ],
      "metadata": {
        "id": "Ydf2IASWSFrs"
      }
    },
    {
      "cell_type": "code",
      "source": [
        "knn_clf.predict([some_digit])"
      ],
      "metadata": {
        "colab": {
          "base_uri": "https://localhost:8080/"
        },
        "id": "jvswtLgCR26R",
        "outputId": "b3f3fbe8-d7e0-434e-a2a2-cafb6cfafd00"
      },
      "execution_count": 101,
      "outputs": [
        {
          "output_type": "stream",
          "name": "stderr",
          "text": [
            "/usr/local/lib/python3.8/dist-packages/sklearn/base.py:450: UserWarning: X does not have valid feature names, but KNeighborsClassifier was fitted with feature names\n",
            "  warnings.warn(\n"
          ]
        },
        {
          "output_type": "execute_result",
          "data": {
            "text/plain": [
              "array([[False,  True]])"
            ]
          },
          "metadata": {},
          "execution_count": 101
        }
      ]
    },
    {
      "cell_type": "markdown",
      "source": [
        "* 다중 레이블 분류기를 평가하는 방법은 많음 \n",
        "<br> ex. 각 레이블마다의 f1-score을 구하고 평균점수 계산"
      ],
      "metadata": {
        "id": "I2VvuEN7Y9z6"
      }
    },
    {
      "cell_type": "code",
      "source": [
        "y_train_knn_pred = cross_val_predict(knn_clf, X_train, y_multilabel, cv = 3)\n",
        "f1_score(y_multilabel, y_train_knn_pred, average = 'macro')"
      ],
      "metadata": {
        "colab": {
          "base_uri": "https://localhost:8080/"
        },
        "id": "ubJnJNzzSOAT",
        "outputId": "0d51c67c-784c-4a43-91c8-6ab920d28316"
      },
      "execution_count": 102,
      "outputs": [
        {
          "output_type": "execute_result",
          "data": {
            "text/plain": [
              "0.976410265560605"
            ]
          },
          "metadata": {},
          "execution_count": 102
        }
      ]
    },
    {
      "cell_type": "markdown",
      "source": [
        "## **3.7 다중 출력 분류**\n",
        ": 다중 레이블 분류에서 한 레이블이 다중 클래스가 될 수 있도록 일반화한 것"
      ],
      "metadata": {
        "id": "h_pTFdgqZRlC"
      }
    },
    {
      "cell_type": "markdown",
      "source": [
        "* **이미지 잡음 제거 시스템 생성 예시** \n",
        "  * 잡음이 많은 숫자 이미지를 입력\n",
        "  * 깨끗한 숫자 이미지를 픽셀의 강도를 담은 배열로 출력\n",
        "  * 이때의 출력은 다중 레이블이며 각 레이블은 다양한 값을 가짐"
      ],
      "metadata": {
        "id": "tq1rHsxXZfkx"
      }
    },
    {
      "cell_type": "markdown",
      "source": [
        "* randint(): 픽셀 강도에 잡음 추가<br>\n",
        "  * np.random.randint(시작 숫자, 끝 숫자, 크기) <br>\n",
        "  * ex. np.random.randint(0, 100, (len(X_train), 784)) <br>\n",
        "  : 0부터 100 사이의 숫자로 (len(X_train), 784)의 배열 생성"
      ],
      "metadata": {
        "id": "PGz3X9Qza6-A"
      }
    },
    {
      "cell_type": "code",
      "source": [
        "# 잡음을 추가한 데이터(X)를 통해 잡음 없는 데이터(y)를 예측하는 것\n",
        "noise = np.random.randint(0, 100, (len(X_train), 784))\n",
        "X_train_mod = X_train + noise\n",
        "noise = np.random.randint(0, 100, (len(X_test), 784))\n",
        "X_test_mod = X_test + noise\n",
        "\n",
        "y_train_mod = X_train\n",
        "y_test_mod = X_test"
      ],
      "metadata": {
        "id": "y_yE9lPtZUcb"
      },
      "execution_count": 105,
      "outputs": []
    },
    {
      "cell_type": "code",
      "source": [
        "def plot_digit(data):\n",
        "  data = np.array(data)\n",
        "  image = data.reshape(28, 28)\n",
        "  plt.imshow(image, cmap = mpl.cm.binary,\n",
        "              interpolation=\"nearest\")\n",
        "  plt.axis(\"off\")"
      ],
      "metadata": {
        "id": "29vyqazTdm2t"
      },
      "execution_count": 119,
      "outputs": []
    },
    {
      "cell_type": "markdown",
      "source": [
        "* 잡음 추가 이미지 vs 잡음 제거 이미지"
      ],
      "metadata": {
        "id": "IFJWhnjSeZ9r"
      }
    },
    {
      "cell_type": "code",
      "source": [
        "some_index = 0\n",
        "# 잡음 추가\n",
        "plt.subplot(121)\n",
        "plot_digit(X_test_mod.iloc[some_index,:])\n",
        "# 잡음 제거\n",
        "plt.subplot(122)\n",
        "plot_digit(y_test_mod.iloc[some_index,:])"
      ],
      "metadata": {
        "colab": {
          "base_uri": "https://localhost:8080/",
          "height": 183
        },
        "id": "Ko4a65guddLb",
        "outputId": "5dd483a0-80ca-4b59-e16d-f7958afe6cca"
      },
      "execution_count": 122,
      "outputs": [
        {
          "output_type": "display_data",
          "data": {
            "text/plain": [
              "<Figure size 432x288 with 2 Axes>"
            ],
            "image/png": "[encoded data removed]"
          },
          "metadata": {
            "needs_background": "light"
          }
        }
      ]
    },
    {
      "cell_type": "code",
      "source": [
        "knn_clf.fit(X_train_mod, y_train_mod)\n",
        "clean_digit = knn_clf.predict([X_test_mod.iloc[some_index,:]])\n",
        "plot_digit(clean_digit)"
      ],
      "metadata": {
        "colab": {
          "base_uri": "https://localhost:8080/",
          "height": 285
        },
        "id": "Sye7MN0ycA7q",
        "outputId": "03e92b24-df93-4ac7-ac14-f73d197303c8"
      },
      "execution_count": 124,
      "outputs": [
        {
          "output_type": "stream",
          "name": "stderr",
          "text": [
            "/usr/local/lib/python3.8/dist-packages/sklearn/base.py:450: UserWarning: X does not have valid feature names, but KNeighborsClassifier was fitted with feature names\n",
            "  warnings.warn(\n"
          ]
        },
        {
          "output_type": "display_data",
          "data": {
            "text/plain": [
              "<Figure size 432x288 with 1 Axes>"
            ],
            "image/png": "[encoded data removed]"
          },
          "metadata": {
            "needs_background": "light"
          }
        }
      ]
    }
  ],
  "metadata": {
    "colab": {
      "provenance": [],
      "authorship_tag": "ABX9TyOWRXmYfybPVuBi9ueWR4u9",
      "include_colab_link": true
    },
    "kernelspec": {
      "display_name": "Python 3",
      "name": "python3"
    },
    "language_info": {
      "name": "python"
    }
  },
  "nbformat": 4,
  "nbformat_minor": 0
}